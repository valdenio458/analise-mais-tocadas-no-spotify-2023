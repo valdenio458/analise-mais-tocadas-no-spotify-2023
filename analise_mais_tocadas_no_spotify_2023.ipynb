{
  "nbformat": 4,
  "nbformat_minor": 0,
  "metadata": {
    "colab": {
      "provenance": []
    },
    "kernelspec": {
      "name": "python3",
      "display_name": "Python 3"
    },
    "language_info": {
      "name": "python"
    }
  },
  "cells": [
    {
      "cell_type": "markdown",
      "source": [
        "## Importando as bibliotecas"
      ],
      "metadata": {
        "id": "q1-TZAhgHT5E"
      }
    },
    {
      "cell_type": "code",
      "execution_count": 1,
      "metadata": {
        "id": "prtWUiQaG_hB"
      },
      "outputs": [],
      "source": [
        "import pandas as pd\n",
        "import numpy as np\n",
        "import matplotlib as plt\n",
        "import sqlite3"
      ]
    },
    {
      "cell_type": "markdown",
      "source": [
        "## Importando o arquivo"
      ],
      "metadata": {
        "id": "jxMTwstCHjX0"
      }
    },
    {
      "cell_type": "code",
      "source": [
        "df = pd.read_csv('/content/spotify-2023.csv', encoding='latin-1')"
      ],
      "metadata": {
        "id": "ZGoC9Ju3HmyP"
      },
      "execution_count": 2,
      "outputs": []
    },
    {
      "cell_type": "code",
      "source": [
        "df.shape"
      ],
      "metadata": {
        "colab": {
          "base_uri": "https://localhost:8080/"
        },
        "id": "7a45IgJaIFmf",
        "outputId": "144083d2-e061-48f4-8697-4df15c3c41af"
      },
      "execution_count": 3,
      "outputs": [
        {
          "output_type": "execute_result",
          "data": {
            "text/plain": [
              "(953, 24)"
            ]
          },
          "metadata": {},
          "execution_count": 3
        }
      ]
    },
    {
      "cell_type": "code",
      "source": [
        "# Obtém informações\n",
        "df.info()"
      ],
      "metadata": {
        "id": "IIAXm8jmIKhq"
      },
      "execution_count": null,
      "outputs": []
    },
    {
      "cell_type": "code",
      "source": [
        "# Visualiza as 5 primeiras linhas\n",
        "df.head()"
      ],
      "metadata": {
        "id": "C7yuJ2ChIVZB"
      },
      "execution_count": null,
      "outputs": []
    },
    {
      "cell_type": "code",
      "source": [
        "df.columns"
      ],
      "metadata": {
        "id": "ypb-QUOSIds3"
      },
      "execution_count": null,
      "outputs": []
    },
    {
      "cell_type": "code",
      "source": [
        "# Verifica se há valores NA\n",
        "df.isna().sum()"
      ],
      "metadata": {
        "id": "eGshNrHHIh-5"
      },
      "execution_count": null,
      "outputs": []
    },
    {
      "cell_type": "code",
      "source": [
        "df['key'].value_counts()"
      ],
      "metadata": {
        "id": "ebG2Q1EAPIXy"
      },
      "execution_count": null,
      "outputs": []
    },
    {
      "cell_type": "code",
      "source": [
        "pd.set_option('display.max_rows',10)\n",
        "df['artist(s)_name']"
      ],
      "metadata": {
        "id": "msOkJGHBInNx"
      },
      "execution_count": null,
      "outputs": []
    },
    {
      "cell_type": "code",
      "source": [
        "artistas_unicos = df['artist(s)_name'].unique()\n",
        "artistas_ordenados = sorted(artistas_unicos)\n",
        "artistas_ordenados"
      ],
      "metadata": {
        "id": "j0YbLiZTKlPG"
      },
      "execution_count": null,
      "outputs": []
    },
    {
      "cell_type": "code",
      "source": [
        "df['track_name'].unique()"
      ],
      "metadata": {
        "id": "YBLy8XJBOLKl"
      },
      "execution_count": null,
      "outputs": []
    },
    {
      "cell_type": "code",
      "source": [
        "artist = df['artist(s)_name'].str.strip() == 'Taylor Swift'"
      ],
      "metadata": {
        "id": "WPrOM1QS4Sv8"
      },
      "execution_count": 45,
      "outputs": []
    },
    {
      "cell_type": "code",
      "source": [
        "artist"
      ],
      "metadata": {
        "id": "_a60UAFl4Zch"
      },
      "execution_count": null,
      "outputs": []
    }
  ]
}